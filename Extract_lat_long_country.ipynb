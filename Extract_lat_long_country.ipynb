{
 "cells": [
  {
   "cell_type": "markdown",
   "metadata": {},
   "source": [
    "# Extraction of Latitude Longititude using Googlemaps API"
   ]
  },
  {
   "cell_type": "code",
   "execution_count": 2,
   "metadata": {
    "collapsed": false
   },
   "outputs": [],
   "source": [
    "import pandas as pd\n",
    "import numpy as np\n",
    "import bs4 as BeautifulSoup\n",
    "import requests\n",
    "import urllib2\n",
    "from ast import literal_eval"
   ]
  },
  {
   "cell_type": "markdown",
   "metadata": {},
   "source": [
    "#### loaded the data of latitude and longitude data extracted using google maps api from \"Capstone-Part2 notebook\". As it retrieves the data in json google format. Saved them as it it.\n",
    "\n",
    "As its stored as list in the columns, but when it exported to dataframe it will automatically covert the values into string rather than list as it is to work with. Geo_All column has data in different formats."
   ]
  },
  {
   "cell_type": "code",
   "execution_count": 3,
   "metadata": {
    "collapsed": false
   },
   "outputs": [],
   "source": [
    "df = pd.read_csv('latlng_30dec2016.csv', na_values='[]')\n",
    "del df['check']"
   ]
  },
  {
   "cell_type": "code",
   "execution_count": 4,
   "metadata": {
    "collapsed": true
   },
   "outputs": [],
   "source": [
    "pd.set_option('display.max_columns', 6000)\n",
    "pd.set_option('display.max_rows', 6000)"
   ]
  },
  {
   "cell_type": "code",
   "execution_count": 5,
   "metadata": {
    "collapsed": true
   },
   "outputs": [],
   "source": [
    "#combining part_1 and Geo columns together\n",
    "df['GeoAll'] = df[df.columns[3:5]].apply(lambda x: ''.join(x.dropna()),axis=1)"
   ]
  },
  {
   "cell_type": "markdown",
   "metadata": {},
   "source": [
    "### Challenges with Google maps API:\n",
    "Latitude and longitude data has been retrieved using google api using its key which is been generated and it only allsows developer to freely download 2500 locations data per 24 hour and that's the free allowance per day for google maps API. I had to wait for another 24 hour to get the data for remaining locations as I have nearly 5000+ locations data.\n",
    "\n",
    "Neary 419 locations hasn't retrieved any data because either the location details were wrongly entered or its something like 100miles from ocean or 100miles from cc airport which is not recognised by google maps api. Finally after so many intervals and iterations managed to get 4900 rows of data using google maps api.\n",
    "\n",
    "Next difficulty was when its been stored into .csv format and loaded back into dataframe it automatically converts the list format of json output into simply string which is rather surprise and had to search lot to figure out how to convert those string into just back to original list so that its easy to extract just latitude and longitude and proper country names.\n",
    "\n",
    "Finally there was library called 'literal_eval' which will convert the string of list into just plain list for me to work with the json again and retrieve lat,lng and country names. countrylatlng() function has been written below to achieve the same."
   ]
  },
  {
   "cell_type": "code",
   "execution_count": 7,
   "metadata": {
    "collapsed": false
   },
   "outputs": [
    {
     "data": {
      "text/plain": [
       "\"[{u'geometry': {u'location_type': u'APPROXIMATE', u'bounds': {u'northeast': {u'lat': 53.74281089999999, u'lng': 0.1460968}, u'southwest': {u'lat': 53.52514069999999, u'lng': -0.699125}}, u'viewport': {u'northeast': {u'lat': 53.74281089999999, u'lng': 0.1460968}, u'southwest': {u'lat': 53.52514069999999, u'lng': -0.699125}}, u'location': {u'lat': 53.63397579999999, u'lng': -0.2765141}}, u'address_components': [{u'long_name': u'Humber', u'types': [u'establishment', u'natural_feature'], u'short_name': u'Humber'}, {u'long_name': u'United Kingdom', u'types': [u'country', u'political'], u'short_name': u'GB'}], u'place_id': u'ChIJX922qfPqeEgRGWU6pzQkNJE', u'formatted_address': u'Humber, United Kingdom', u'types': [u'establishment', u'natural_feature']}]\""
      ]
     },
     "execution_count": 7,
     "metadata": {},
     "output_type": "execute_result"
    }
   ],
   "source": [
    "df['GeoAll'][0]"
   ]
  },
  {
   "cell_type": "code",
   "execution_count": 576,
   "metadata": {
    "collapsed": false
   },
   "outputs": [],
   "source": [
    "#function to retrieve latitude, longitude and country name\n",
    "def countrylatlng(tt1):\n",
    "    #print tt1\n",
    "    if type(tt1)!=float:\n",
    "        if len(tt1)>2:\n",
    "            tt1=literal_eval(tt1)\n",
    "            \n",
    "            add_c = tt1[0]['address_components']\n",
    "            #print type(add_c), len(add_c)\n",
    "            lat = float(tt1[0]['geometry']['location']['lat'])\n",
    "            lng = float(tt1[0]['geometry']['location']['lng'])\n",
    "\n",
    "            wanted_keys=['types']\n",
    "            \n",
    "            #print \"add_c\",add_c\n",
    "            country = \"None\"\n",
    "\n",
    "            for i in range(len(add_c)):\n",
    "                old_dict=add_c[i]\n",
    "                #print old_dict\n",
    "                new_dict = {k: old_dict[k] for k in set(wanted_keys) & set(old_dict.keys())}\n",
    "                #print new_dict\n",
    "                if str(new_dict.values()).find('country') <> -1:\n",
    "                    #print i,\"----\"\n",
    "                    country = add_c[i]['long_name']\n",
    "                    #print country\n",
    "                    #print \"-----\"\n",
    "                elif str(new_dict.values()).find('postal_code') == -1:\n",
    "                    #print i,\"*****\"\n",
    "                    #print \"xxxx\"\n",
    "                    country = add_c[i]['long_name']\n",
    "                    #print \"11111\",add_c[i]['long_name']\n",
    "                    #print country\n",
    "                    #print \"******\"\n",
    "                #print country\n",
    "\n",
    "                \n",
    "            #print i\n",
    "            #print lat, lng, country    \n",
    "            return (lat, lng, country)\n",
    "        else:\n",
    "            #print tt1\n",
    "            return (tt1, tt1, tt1)\n",
    "    \n",
    "    else:\n",
    "        #print \"finalelse\"\n",
    "        return (tt1, tt1, tt1)\n",
    "        "
   ]
  },
  {
   "cell_type": "code",
   "execution_count": 577,
   "metadata": {
    "collapsed": false
   },
   "outputs": [
    {
     "data": {
      "text/plain": [
       "(-14.5994134, -28.6731465, u'Atlantic Ocean')"
      ]
     },
     "execution_count": 577,
     "metadata": {},
     "output_type": "execute_result"
    }
   ],
   "source": [
    "countrylatlng(df['part_1'][5])"
   ]
  },
  {
   "cell_type": "code",
   "execution_count": 579,
   "metadata": {
    "collapsed": false
   },
   "outputs": [],
   "source": [
    "df['latlngcountry']=df['GeoAll'].map(countrylatlng)"
   ]
  },
  {
   "cell_type": "code",
   "execution_count": 580,
   "metadata": {
    "collapsed": false
   },
   "outputs": [],
   "source": [
    "df['latitude']=df['latlngcountry'].map(lambda x: x[0])\n",
    "df['longititude']=df['latlngcountry'].map(lambda x: x[1])\n",
    "df['loccountry']=df['latlngcountry'].map(lambda x: x[2])"
   ]
  },
  {
   "cell_type": "code",
   "execution_count": 581,
   "metadata": {
    "collapsed": false
   },
   "outputs": [
    {
     "data": {
      "text/html": [
       "<div>\n",
       "<table border=\"1\" class=\"dataframe\">\n",
       "  <thead>\n",
       "    <tr style=\"text-align: right;\">\n",
       "      <th></th>\n",
       "      <th>Unnamed: 0</th>\n",
       "      <th>Date</th>\n",
       "      <th>Location</th>\n",
       "      <th>part_1</th>\n",
       "      <th>Geo</th>\n",
       "      <th>Geo_1</th>\n",
       "      <th>GeoAll</th>\n",
       "      <th>latlngcountry</th>\n",
       "      <th>latitude</th>\n",
       "      <th>longititude</th>\n",
       "      <th>loccountry</th>\n",
       "    </tr>\n",
       "  </thead>\n",
       "  <tbody>\n",
       "    <tr>\n",
       "      <th>0</th>\n",
       "      <td>0</td>\n",
       "      <td>8/24/1921</td>\n",
       "      <td>River Humber, England</td>\n",
       "      <td>[{u'geometry': {u'location_type': u'APPROXIMAT...</td>\n",
       "      <td>NaN</td>\n",
       "      <td>NaN</td>\n",
       "      <td>[{u'geometry': {u'location_type': u'APPROXIMAT...</td>\n",
       "      <td>(53.6339758, -0.2765141, United Kingdom)</td>\n",
       "      <td>53.634</td>\n",
       "      <td>-0.276514</td>\n",
       "      <td>United Kingdom</td>\n",
       "    </tr>\n",
       "    <tr>\n",
       "      <th>1</th>\n",
       "      <td>1</td>\n",
       "      <td>9/6/1921</td>\n",
       "      <td>Paris, France</td>\n",
       "      <td>[{u'geometry': {u'location_type': u'APPROXIMAT...</td>\n",
       "      <td>NaN</td>\n",
       "      <td>NaN</td>\n",
       "      <td>[{u'geometry': {u'location_type': u'APPROXIMAT...</td>\n",
       "      <td>(48.856614, 2.3522219, France)</td>\n",
       "      <td>48.8566</td>\n",
       "      <td>2.35222</td>\n",
       "      <td>France</td>\n",
       "    </tr>\n",
       "    <tr>\n",
       "      <th>2</th>\n",
       "      <td>2</td>\n",
       "      <td>12/5/1921</td>\n",
       "      <td>Near Murchinson River, Australia</td>\n",
       "      <td>[{u'geometry': {u'location_type': u'APPROXIMAT...</td>\n",
       "      <td>NaN</td>\n",
       "      <td>NaN</td>\n",
       "      <td>[{u'geometry': {u'location_type': u'APPROXIMAT...</td>\n",
       "      <td>(-25.8742799, 118.8406464, Australia)</td>\n",
       "      <td>-25.8743</td>\n",
       "      <td>118.841</td>\n",
       "      <td>Australia</td>\n",
       "    </tr>\n",
       "    <tr>\n",
       "      <th>3</th>\n",
       "      <td>3</td>\n",
       "      <td>1/14/1922</td>\n",
       "      <td>Paris, France</td>\n",
       "      <td>[{u'geometry': {u'location_type': u'APPROXIMAT...</td>\n",
       "      <td>NaN</td>\n",
       "      <td>NaN</td>\n",
       "      <td>[{u'geometry': {u'location_type': u'APPROXIMAT...</td>\n",
       "      <td>(48.856614, 2.3522219, France)</td>\n",
       "      <td>48.8566</td>\n",
       "      <td>2.35222</td>\n",
       "      <td>France</td>\n",
       "    </tr>\n",
       "    <tr>\n",
       "      <th>4</th>\n",
       "      <td>4</td>\n",
       "      <td>2/21/1922</td>\n",
       "      <td>Near Norfolk, Virginia</td>\n",
       "      <td>[{u'geometry': {u'location_type': u'APPROXIMAT...</td>\n",
       "      <td>NaN</td>\n",
       "      <td>NaN</td>\n",
       "      <td>[{u'geometry': {u'location_type': u'APPROXIMAT...</td>\n",
       "      <td>(36.8507689, -76.2858726, United States)</td>\n",
       "      <td>36.8508</td>\n",
       "      <td>-76.2859</td>\n",
       "      <td>United States</td>\n",
       "    </tr>\n",
       "  </tbody>\n",
       "</table>\n",
       "</div>"
      ],
      "text/plain": [
       "   Unnamed: 0       Date                          Location  \\\n",
       "0           0  8/24/1921             River Humber, England   \n",
       "1           1   9/6/1921                     Paris, France   \n",
       "2           2  12/5/1921  Near Murchinson River, Australia   \n",
       "3           3  1/14/1922                     Paris, France   \n",
       "4           4  2/21/1922            Near Norfolk, Virginia   \n",
       "\n",
       "                                              part_1  Geo Geo_1  \\\n",
       "0  [{u'geometry': {u'location_type': u'APPROXIMAT...  NaN   NaN   \n",
       "1  [{u'geometry': {u'location_type': u'APPROXIMAT...  NaN   NaN   \n",
       "2  [{u'geometry': {u'location_type': u'APPROXIMAT...  NaN   NaN   \n",
       "3  [{u'geometry': {u'location_type': u'APPROXIMAT...  NaN   NaN   \n",
       "4  [{u'geometry': {u'location_type': u'APPROXIMAT...  NaN   NaN   \n",
       "\n",
       "                                              GeoAll  \\\n",
       "0  [{u'geometry': {u'location_type': u'APPROXIMAT...   \n",
       "1  [{u'geometry': {u'location_type': u'APPROXIMAT...   \n",
       "2  [{u'geometry': {u'location_type': u'APPROXIMAT...   \n",
       "3  [{u'geometry': {u'location_type': u'APPROXIMAT...   \n",
       "4  [{u'geometry': {u'location_type': u'APPROXIMAT...   \n",
       "\n",
       "                              latlngcountry latitude longititude  \\\n",
       "0  (53.6339758, -0.2765141, United Kingdom)   53.634   -0.276514   \n",
       "1            (48.856614, 2.3522219, France)  48.8566     2.35222   \n",
       "2     (-25.8742799, 118.8406464, Australia) -25.8743     118.841   \n",
       "3            (48.856614, 2.3522219, France)  48.8566     2.35222   \n",
       "4  (36.8507689, -76.2858726, United States)  36.8508    -76.2859   \n",
       "\n",
       "       loccountry  \n",
       "0  United Kingdom  \n",
       "1          France  \n",
       "2       Australia  \n",
       "3          France  \n",
       "4   United States  "
      ]
     },
     "execution_count": 581,
     "metadata": {},
     "output_type": "execute_result"
    }
   ],
   "source": [
    "df.head()"
   ]
  },
  {
   "cell_type": "code",
   "execution_count": 605,
   "metadata": {
    "collapsed": false
   },
   "outputs": [],
   "source": [
    "df['loccountry'][336]='Mexico'\n",
    "df['loccountry'][439]='Australia'\n",
    "df['loccountry'][604]='Norway'"
   ]
  },
  {
   "cell_type": "code",
   "execution_count": 606,
   "metadata": {
    "collapsed": false,
    "scrolled": true
   },
   "outputs": [
    {
     "name": "stdout",
     "output_type": "stream",
     "text": [
      "419\n",
      "419\n",
      "419\n"
     ]
    }
   ],
   "source": [
    "print len(df[df['latitude']==''])\n",
    "print len(df[df['longititude']==''])\n",
    "print len(df[df['loccountry']==''])"
   ]
  },
  {
   "cell_type": "code",
   "execution_count": 619,
   "metadata": {
    "collapsed": false
   },
   "outputs": [],
   "source": [
    "df_final =df.drop(['Unnamed: 0','part_1','Geo','Geo_1'], axis=1)"
   ]
  },
  {
   "cell_type": "code",
   "execution_count": 620,
   "metadata": {
    "collapsed": false
   },
   "outputs": [
    {
     "name": "stdout",
     "output_type": "stream",
     "text": [
      "<class 'pandas.core.frame.DataFrame'>\n",
      "RangeIndex: 5367 entries, 0 to 5366\n",
      "Data columns (total 7 columns):\n",
      "Date             5367 non-null object\n",
      "Location         5367 non-null object\n",
      "GeoAll           5367 non-null object\n",
      "latlngcountry    5367 non-null object\n",
      "latitude         5367 non-null object\n",
      "longititude      5367 non-null object\n",
      "loccountry       5367 non-null object\n",
      "dtypes: object(7)\n",
      "memory usage: 293.6+ KB\n"
     ]
    }
   ],
   "source": [
    "df_final.info()"
   ]
  },
  {
   "cell_type": "code",
   "execution_count": 624,
   "metadata": {
    "collapsed": false
   },
   "outputs": [],
   "source": [
    "# saving the final output into .csv to work with later in model\n",
    "df_final.to_csv('Final_latlngcountry_31Dec.csv', encoding='utf-8')"
   ]
  },
  {
   "cell_type": "code",
   "execution_count": 625,
   "metadata": {
    "collapsed": false
   },
   "outputs": [
    {
     "data": {
      "text/html": [
       "<div>\n",
       "<table border=\"1\" class=\"dataframe\">\n",
       "  <thead>\n",
       "    <tr style=\"text-align: right;\">\n",
       "      <th></th>\n",
       "      <th>Date</th>\n",
       "      <th>Location</th>\n",
       "      <th>GeoAll</th>\n",
       "      <th>latlngcountry</th>\n",
       "      <th>latitude</th>\n",
       "      <th>longititude</th>\n",
       "      <th>loccountry</th>\n",
       "    </tr>\n",
       "  </thead>\n",
       "  <tbody>\n",
       "    <tr>\n",
       "      <th>0</th>\n",
       "      <td>8/24/1921</td>\n",
       "      <td>River Humber, England</td>\n",
       "      <td>[{u'geometry': {u'location_type': u'APPROXIMAT...</td>\n",
       "      <td>(53.6339758, -0.2765141, United Kingdom)</td>\n",
       "      <td>53.634</td>\n",
       "      <td>-0.276514</td>\n",
       "      <td>United Kingdom</td>\n",
       "    </tr>\n",
       "    <tr>\n",
       "      <th>1</th>\n",
       "      <td>9/6/1921</td>\n",
       "      <td>Paris, France</td>\n",
       "      <td>[{u'geometry': {u'location_type': u'APPROXIMAT...</td>\n",
       "      <td>(48.856614, 2.3522219, France)</td>\n",
       "      <td>48.8566</td>\n",
       "      <td>2.35222</td>\n",
       "      <td>France</td>\n",
       "    </tr>\n",
       "    <tr>\n",
       "      <th>2</th>\n",
       "      <td>12/5/1921</td>\n",
       "      <td>Near Murchinson River, Australia</td>\n",
       "      <td>[{u'geometry': {u'location_type': u'APPROXIMAT...</td>\n",
       "      <td>(-25.8742799, 118.8406464, Australia)</td>\n",
       "      <td>-25.8743</td>\n",
       "      <td>118.841</td>\n",
       "      <td>Australia</td>\n",
       "    </tr>\n",
       "    <tr>\n",
       "      <th>3</th>\n",
       "      <td>1/14/1922</td>\n",
       "      <td>Paris, France</td>\n",
       "      <td>[{u'geometry': {u'location_type': u'APPROXIMAT...</td>\n",
       "      <td>(48.856614, 2.3522219, France)</td>\n",
       "      <td>48.8566</td>\n",
       "      <td>2.35222</td>\n",
       "      <td>France</td>\n",
       "    </tr>\n",
       "    <tr>\n",
       "      <th>4</th>\n",
       "      <td>2/21/1922</td>\n",
       "      <td>Near Norfolk, Virginia</td>\n",
       "      <td>[{u'geometry': {u'location_type': u'APPROXIMAT...</td>\n",
       "      <td>(36.8507689, -76.2858726, United States)</td>\n",
       "      <td>36.8508</td>\n",
       "      <td>-76.2859</td>\n",
       "      <td>United States</td>\n",
       "    </tr>\n",
       "  </tbody>\n",
       "</table>\n",
       "</div>"
      ],
      "text/plain": [
       "        Date                          Location  \\\n",
       "0  8/24/1921             River Humber, England   \n",
       "1   9/6/1921                     Paris, France   \n",
       "2  12/5/1921  Near Murchinson River, Australia   \n",
       "3  1/14/1922                     Paris, France   \n",
       "4  2/21/1922            Near Norfolk, Virginia   \n",
       "\n",
       "                                              GeoAll  \\\n",
       "0  [{u'geometry': {u'location_type': u'APPROXIMAT...   \n",
       "1  [{u'geometry': {u'location_type': u'APPROXIMAT...   \n",
       "2  [{u'geometry': {u'location_type': u'APPROXIMAT...   \n",
       "3  [{u'geometry': {u'location_type': u'APPROXIMAT...   \n",
       "4  [{u'geometry': {u'location_type': u'APPROXIMAT...   \n",
       "\n",
       "                              latlngcountry latitude longititude  \\\n",
       "0  (53.6339758, -0.2765141, United Kingdom)   53.634   -0.276514   \n",
       "1            (48.856614, 2.3522219, France)  48.8566     2.35222   \n",
       "2     (-25.8742799, 118.8406464, Australia) -25.8743     118.841   \n",
       "3            (48.856614, 2.3522219, France)  48.8566     2.35222   \n",
       "4  (36.8507689, -76.2858726, United States)  36.8508    -76.2859   \n",
       "\n",
       "       loccountry  \n",
       "0  United Kingdom  \n",
       "1          France  \n",
       "2       Australia  \n",
       "3          France  \n",
       "4   United States  "
      ]
     },
     "execution_count": 625,
     "metadata": {},
     "output_type": "execute_result"
    }
   ],
   "source": [
    "df_final.head()"
   ]
  },
  {
   "cell_type": "code",
   "execution_count": null,
   "metadata": {
    "collapsed": false
   },
   "outputs": [],
   "source": []
  },
  {
   "cell_type": "code",
   "execution_count": null,
   "metadata": {
    "collapsed": true
   },
   "outputs": [],
   "source": []
  }
 ],
 "metadata": {
  "anaconda-cloud": {},
  "kernelspec": {
   "display_name": "Python [conda root]",
   "language": "python",
   "name": "conda-root-py"
  },
  "language_info": {
   "codemirror_mode": {
    "name": "ipython",
    "version": 2
   },
   "file_extension": ".py",
   "mimetype": "text/x-python",
   "name": "python",
   "nbconvert_exporter": "python",
   "pygments_lexer": "ipython2",
   "version": "2.7.12"
  }
 },
 "nbformat": 4,
 "nbformat_minor": 1
}
